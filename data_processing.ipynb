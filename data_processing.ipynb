{
 "cells": [
  {
   "cell_type": "markdown",
   "metadata": {
    "pycharm": {
     "name": "#%% md\n"
    }
   },
   "source": [
    "# Data preprocessing and Exploratory Data Analysis (EDA)"
   ]
  },
  {
   "cell_type": "code",
   "execution_count": 2,
   "metadata": {
    "pycharm": {
     "name": "#%%\n"
    }
   },
   "outputs": [],
   "source": [
    "#all necessary imports\n",
    "import pandas as pd\n",
    "import pandasql as ps\n",
    "import numpy as np"
   ]
  },
  {
   "cell_type": "markdown",
   "metadata": {
    "pycharm": {
     "name": "#%% md\n"
    }
   },
   "source": [
    "## Fetching rides data"
   ]
  },
  {
   "cell_type": "code",
   "execution_count": 14,
   "metadata": {
    "collapsed": true,
    "pycharm": {
     "name": "#%%\n"
    }
   },
   "outputs": [],
   "source": [
    "rides = pd.read_csv('data/cab_rides.csv')"
   ]
  },
  {
   "cell_type": "markdown",
   "metadata": {
    "pycharm": {
     "name": "#%% md\n"
    }
   },
   "source": [
    "## Initial exploration of the rides dataset"
   ]
  },
  {
   "cell_type": "code",
   "execution_count": 15,
   "metadata": {
    "pycharm": {
     "name": "#%%\n"
    }
   },
   "outputs": [
    {
     "name": "stdout",
     "output_type": "stream",
     "text": [
      "   distance cab_type     time_stamp              destination  \\\n",
      "0      0.44     Lyft  1544952607890            North Station   \n",
      "1      0.44     Lyft  1543284023677            North Station   \n",
      "2      0.44     Lyft  1543366822198            North Station   \n",
      "3      0.44     Lyft  1543553582749            North Station   \n",
      "4      0.44     Lyft  1543463360223            North Station   \n",
      "5      0.44     Lyft  1545071112138            North Station   \n",
      "6      1.08     Lyft  1543208580200  Northeastern University   \n",
      "7      1.08     Lyft  1543780384677  Northeastern University   \n",
      "8      1.08     Lyft  1543818482645  Northeastern University   \n",
      "9      1.08     Lyft  1543315522249  Northeastern University   \n",
      "\n",
      "             source  price  surge_multiplier  \\\n",
      "0  Haymarket Square    5.0               1.0   \n",
      "1  Haymarket Square   11.0               1.0   \n",
      "2  Haymarket Square    7.0               1.0   \n",
      "3  Haymarket Square   26.0               1.0   \n",
      "4  Haymarket Square    9.0               1.0   \n",
      "5  Haymarket Square   16.5               1.0   \n",
      "6          Back Bay   10.5               1.0   \n",
      "7          Back Bay   16.5               1.0   \n",
      "8          Back Bay    3.0               1.0   \n",
      "9          Back Bay   27.5               1.0   \n",
      "\n",
      "                                     id    product_id          name  \n",
      "0  424553bb-7174-41ea-aeb4-fe06d4f4b9d7     lyft_line        Shared  \n",
      "1  4bd23055-6827-41c6-b23b-3c491f24e74d  lyft_premier           Lux  \n",
      "2  981a3613-77af-4620-a42a-0c0866077d1e          lyft          Lyft  \n",
      "3  c2d88af2-d278-4bfd-a8d0-29ca77cc5512   lyft_luxsuv  Lux Black XL  \n",
      "4  e0126e1f-8ca9-4f2e-82b3-50505a09db9a     lyft_plus       Lyft XL  \n",
      "5  f6f6d7e4-3e18-4922-a5f5-181cdd3fa6f2      lyft_lux     Lux Black  \n",
      "6  462816a3-820d-408b-8549-0b39e82f65ac     lyft_plus       Lyft XL  \n",
      "7  474d6376-bc59-4ec9-bf57-4e6d6faeb165      lyft_lux     Lux Black  \n",
      "8  4f9fee41-fde3-4767-bbf1-a00e108701fb     lyft_line        Shared  \n",
      "9  8612d909-98b8-4454-a093-30bd48de0cb3   lyft_luxsuv  Lux Black XL  \n"
     ]
    }
   ],
   "source": [
    "print(rides.head(10))"
   ]
  },
  {
   "cell_type": "code",
   "execution_count": 16,
   "metadata": {
    "pycharm": {
     "name": "#%%\n"
    }
   },
   "outputs": [
    {
     "name": "stdout",
     "output_type": "stream",
     "text": [
      "(693071, 10)\n"
     ]
    }
   ],
   "source": [
    "print(rides.shape)"
   ]
  },
  {
   "cell_type": "code",
   "execution_count": 17,
   "metadata": {
    "pycharm": {
     "name": "#%%\n"
    }
   },
   "outputs": [
    {
     "name": "stdout",
     "output_type": "stream",
     "text": [
      "<class 'pandas.core.frame.DataFrame'>\n",
      "RangeIndex: 693071 entries, 0 to 693070\n",
      "Data columns (total 10 columns):\n",
      " #   Column            Non-Null Count   Dtype  \n",
      "---  ------            --------------   -----  \n",
      " 0   distance          693071 non-null  float64\n",
      " 1   cab_type          693071 non-null  object \n",
      " 2   time_stamp        693071 non-null  int64  \n",
      " 3   destination       693071 non-null  object \n",
      " 4   source            693071 non-null  object \n",
      " 5   price             637976 non-null  float64\n",
      " 6   surge_multiplier  693071 non-null  float64\n",
      " 7   id                693071 non-null  object \n",
      " 8   product_id        693071 non-null  object \n",
      " 9   name              693071 non-null  object \n",
      "dtypes: float64(3), int64(1), object(6)\n",
      "memory usage: 37.0+ MB\n",
      "None\n"
     ]
    }
   ],
   "source": [
    "print(rides.info())"
   ]
  },
  {
   "cell_type": "code",
   "execution_count": 18,
   "metadata": {
    "pycharm": {
     "name": "#%%\n"
    }
   },
   "outputs": [
    {
     "name": "stdout",
     "output_type": "stream",
     "text": [
      "            distance    time_stamp          price  surge_multiplier\n",
      "count  693071.000000  6.930710e+05  637976.000000     693071.000000\n",
      "mean        2.189430  1.544046e+12      16.545125          1.013870\n",
      "std         1.138937  6.891925e+08       9.324359          0.091641\n",
      "min         0.020000  1.543204e+12       2.500000          1.000000\n",
      "25%         1.280000  1.543444e+12       9.000000          1.000000\n",
      "50%         2.160000  1.543737e+12      13.500000          1.000000\n",
      "75%         2.920000  1.544828e+12      22.500000          1.000000\n",
      "max         7.860000  1.545161e+12      97.500000          3.000000\n"
     ]
    }
   ],
   "source": [
    "print(rides.describe())\n"
   ]
  },
  {
   "cell_type": "markdown",
   "metadata": {},
   "source": [
    "## Fetching weather data"
   ]
  },
  {
   "cell_type": "code",
   "execution_count": 19,
   "metadata": {
    "pycharm": {
     "name": "#%%\n"
    }
   },
   "outputs": [],
   "source": [
    "weather = pd.read_csv('data/weather.csv')"
   ]
  },
  {
   "cell_type": "markdown",
   "metadata": {},
   "source": [
    "## Initial exploration of the rides dataset"
   ]
  },
  {
   "cell_type": "code",
   "execution_count": 20,
   "metadata": {
    "pycharm": {
     "name": "#%%\n"
    }
   },
   "outputs": [
    {
     "name": "stdout",
     "output_type": "stream",
     "text": [
      "    temp                 location  clouds  pressure    rain  time_stamp  \\\n",
      "0  42.42                 Back Bay     1.0   1012.14  0.1228  1545003901   \n",
      "1  42.43              Beacon Hill     1.0   1012.15  0.1846  1545003901   \n",
      "2  42.50        Boston University     1.0   1012.15  0.1089  1545003901   \n",
      "3  42.11                   Fenway     1.0   1012.13  0.0969  1545003901   \n",
      "4  43.13       Financial District     1.0   1012.14  0.1786  1545003901   \n",
      "5  42.34         Haymarket Square     1.0   1012.15  0.2068  1545003901   \n",
      "6  42.36                North End     1.0   1012.15  0.2088  1545003901   \n",
      "7  42.21            North Station     1.0   1012.16  0.2069  1545003901   \n",
      "8  42.07  Northeastern University     1.0   1012.12  0.1020  1545003901   \n",
      "9  43.05            South Station     1.0   1012.12  0.1547  1545003901   \n",
      "\n",
      "   humidity   wind  \n",
      "0      0.77  11.25  \n",
      "1      0.76  11.32  \n",
      "2      0.76  11.07  \n",
      "3      0.77  11.09  \n",
      "4      0.75  11.49  \n",
      "5      0.77  11.49  \n",
      "6      0.77  11.46  \n",
      "7      0.77  11.37  \n",
      "8      0.78  11.28  \n",
      "9      0.75  11.58  \n"
     ]
    }
   ],
   "source": [
    "print(weather.head(10))"
   ]
  },
  {
   "cell_type": "code",
   "execution_count": 21,
   "metadata": {
    "pycharm": {
     "name": "#%%\n"
    }
   },
   "outputs": [
    {
     "name": "stdout",
     "output_type": "stream",
     "text": [
      "(6276, 8)\n"
     ]
    }
   ],
   "source": [
    "print(weather.shape)"
   ]
  },
  {
   "cell_type": "code",
   "execution_count": 22,
   "metadata": {
    "pycharm": {
     "name": "#%%\n"
    }
   },
   "outputs": [
    {
     "name": "stdout",
     "output_type": "stream",
     "text": [
      "<class 'pandas.core.frame.DataFrame'>\n",
      "RangeIndex: 6276 entries, 0 to 6275\n",
      "Data columns (total 8 columns):\n",
      " #   Column      Non-Null Count  Dtype  \n",
      "---  ------      --------------  -----  \n",
      " 0   temp        6276 non-null   float64\n",
      " 1   location    6276 non-null   object \n",
      " 2   clouds      6276 non-null   float64\n",
      " 3   pressure    6276 non-null   float64\n",
      " 4   rain        894 non-null    float64\n",
      " 5   time_stamp  6276 non-null   int64  \n",
      " 6   humidity    6276 non-null   float64\n",
      " 7   wind        6276 non-null   float64\n",
      "dtypes: float64(6), int64(1), object(1)\n",
      "memory usage: 367.8+ KB\n",
      "None\n"
     ]
    }
   ],
   "source": [
    "print(weather.info())"
   ]
  },
  {
   "cell_type": "code",
   "execution_count": 23,
   "metadata": {
    "pycharm": {
     "name": "#%%\n"
    }
   },
   "outputs": [
    {
     "name": "stdout",
     "output_type": "stream",
     "text": [
      "              temp       clouds     pressure        rain    time_stamp  \\\n",
      "count  6276.000000  6276.000000  6276.000000  894.000000  6.276000e+03   \n",
      "mean     39.090475     0.677777  1008.445209    0.057652  1.543857e+09   \n",
      "std       6.022055     0.314284    12.870775    0.100758  6.659340e+05   \n",
      "min      19.620000     0.000000   988.250000    0.000200  1.543204e+09   \n",
      "25%      36.077500     0.440000   997.747500    0.004900  1.543387e+09   \n",
      "50%      40.130000     0.780000  1007.660000    0.014850  1.543514e+09   \n",
      "75%      42.832500     0.970000  1018.480000    0.060925  1.544691e+09   \n",
      "max      55.410000     1.000000  1035.120000    0.780700  1.545159e+09   \n",
      "\n",
      "          humidity         wind  \n",
      "count  6276.000000  6276.000000  \n",
      "mean      0.763985     6.802812  \n",
      "std       0.127340     3.633466  \n",
      "min       0.450000     0.290000  \n",
      "25%       0.670000     3.517500  \n",
      "50%       0.760000     6.570000  \n",
      "75%       0.890000     9.920000  \n",
      "max       0.990000    18.180000  \n"
     ]
    }
   ],
   "source": [
    "print(weather.describe())"
   ]
  },
  {
   "cell_type": "markdown",
   "metadata": {
    "pycharm": {
     "name": "#%% md\n"
    }
   },
   "source": [
    "## Merging ride and weather data"
   ]
  },
  {
   "cell_type": "code",
   "execution_count": 24,
   "metadata": {
    "pycharm": {
     "name": "#%%\n"
    }
   },
   "outputs": [
    {
     "ename": "MemoryError",
     "evalue": "",
     "output_type": "error",
     "traceback": [
      "\u001B[1;31m---------------------------------------------------------------------------\u001B[0m",
      "\u001B[1;31mMemoryError\u001B[0m                               Traceback (most recent call last)",
      "\u001B[1;32m<ipython-input-24-3a242ecb9648>\u001B[0m in \u001B[0;36m<module>\u001B[1;34m\u001B[0m\n\u001B[0;32m     11\u001B[0m \u001B[1;31m#I'm making a range because weather data and rides data were created in different intervals (we want the weather timestamp closest to the ride timestamp)\u001B[0m\u001B[1;33m\u001B[0m\u001B[1;33m\u001B[0m\u001B[1;33m\u001B[0m\u001B[0m\n\u001B[0;32m     12\u001B[0m \u001B[0msql_query\u001B[0m \u001B[1;33m=\u001B[0m \u001B[1;34m\"SELECT * FROM rides INNER JOIN weather ON rides.source = weather.location WHERE time_stamp_round  <= (rides.time_stamp_secs +1800) AND time_stamp_round >= ( rides.time_stamp_secs-1800)\"\u001B[0m\u001B[1;33m\u001B[0m\u001B[1;33m\u001B[0m\u001B[0m\n\u001B[1;32m---> 13\u001B[1;33m \u001B[0mnew_combined\u001B[0m \u001B[1;33m=\u001B[0m \u001B[0mps\u001B[0m\u001B[1;33m.\u001B[0m\u001B[0msqldf\u001B[0m\u001B[1;33m(\u001B[0m\u001B[0msql_query\u001B[0m\u001B[1;33m,\u001B[0m \u001B[0mlocals\u001B[0m\u001B[1;33m(\u001B[0m\u001B[1;33m)\u001B[0m\u001B[1;33m)\u001B[0m\u001B[1;33m\u001B[0m\u001B[1;33m\u001B[0m\u001B[0m\n\u001B[0m\u001B[0;32m     14\u001B[0m \u001B[0mnew_combined\u001B[0m\u001B[1;33m.\u001B[0m\u001B[0mto_csv\u001B[0m\u001B[1;33m(\u001B[0m\u001B[1;34m'data/combined.csv'\u001B[0m\u001B[1;33m)\u001B[0m\u001B[1;33m\u001B[0m\u001B[1;33m\u001B[0m\u001B[0m\n\u001B[0;32m     15\u001B[0m \u001B[1;31m#This data might some duplicates because they way we are merging -> we need to remove them\u001B[0m\u001B[1;33m\u001B[0m\u001B[1;33m\u001B[0m\u001B[1;33m\u001B[0m\u001B[0m\n",
      "\u001B[1;32mc:\\users\\a_sta\\onedrive - worcester polytechnic institute (wpi.edu)\\2020-21\\d\\ds 3010\\final project\\ds3010project\\new_venv\\lib\\site-packages\\pandasql\\sqldf.py\u001B[0m in \u001B[0;36msqldf\u001B[1;34m(query, env, db_uri)\u001B[0m\n\u001B[0;32m    154\u001B[0m     \u001B[1;33m>>\u001B[0m\u001B[1;33m>\u001B[0m \u001B[0msqldf\u001B[0m\u001B[1;33m(\u001B[0m\u001B[1;34m\"select avg(x) from df;\"\u001B[0m\u001B[1;33m,\u001B[0m \u001B[0mlocals\u001B[0m\u001B[1;33m(\u001B[0m\u001B[1;33m)\u001B[0m\u001B[1;33m)\u001B[0m\u001B[1;33m\u001B[0m\u001B[1;33m\u001B[0m\u001B[0m\n\u001B[0;32m    155\u001B[0m     \"\"\"\n\u001B[1;32m--> 156\u001B[1;33m     \u001B[1;32mreturn\u001B[0m \u001B[0mPandaSQL\u001B[0m\u001B[1;33m(\u001B[0m\u001B[0mdb_uri\u001B[0m\u001B[1;33m)\u001B[0m\u001B[1;33m(\u001B[0m\u001B[0mquery\u001B[0m\u001B[1;33m,\u001B[0m \u001B[0menv\u001B[0m\u001B[1;33m)\u001B[0m\u001B[1;33m\u001B[0m\u001B[1;33m\u001B[0m\u001B[0m\n\u001B[0m",
      "\u001B[1;32mc:\\users\\a_sta\\onedrive - worcester polytechnic institute (wpi.edu)\\2020-21\\d\\ds 3010\\final project\\ds3010project\\new_venv\\lib\\site-packages\\pandasql\\sqldf.py\u001B[0m in \u001B[0;36m__call__\u001B[1;34m(self, query, env)\u001B[0m\n\u001B[0;32m     56\u001B[0m                     \u001B[1;32mcontinue\u001B[0m\u001B[1;33m\u001B[0m\u001B[1;33m\u001B[0m\u001B[0m\n\u001B[0;32m     57\u001B[0m                 \u001B[0mself\u001B[0m\u001B[1;33m.\u001B[0m\u001B[0mloaded_tables\u001B[0m\u001B[1;33m.\u001B[0m\u001B[0madd\u001B[0m\u001B[1;33m(\u001B[0m\u001B[0mtable_name\u001B[0m\u001B[1;33m)\u001B[0m\u001B[1;33m\u001B[0m\u001B[1;33m\u001B[0m\u001B[0m\n\u001B[1;32m---> 58\u001B[1;33m                 \u001B[0mwrite_table\u001B[0m\u001B[1;33m(\u001B[0m\u001B[0menv\u001B[0m\u001B[1;33m[\u001B[0m\u001B[0mtable_name\u001B[0m\u001B[1;33m]\u001B[0m\u001B[1;33m,\u001B[0m \u001B[0mtable_name\u001B[0m\u001B[1;33m,\u001B[0m \u001B[0mconn\u001B[0m\u001B[1;33m)\u001B[0m\u001B[1;33m\u001B[0m\u001B[1;33m\u001B[0m\u001B[0m\n\u001B[0m\u001B[0;32m     59\u001B[0m \u001B[1;33m\u001B[0m\u001B[0m\n\u001B[0;32m     60\u001B[0m             \u001B[1;32mtry\u001B[0m\u001B[1;33m:\u001B[0m\u001B[1;33m\u001B[0m\u001B[1;33m\u001B[0m\u001B[0m\n",
      "\u001B[1;32mc:\\users\\a_sta\\onedrive - worcester polytechnic institute (wpi.edu)\\2020-21\\d\\ds 3010\\final project\\ds3010project\\new_venv\\lib\\site-packages\\pandasql\\sqldf.py\u001B[0m in \u001B[0;36mwrite_table\u001B[1;34m(df, tablename, conn)\u001B[0m\n\u001B[0;32m    118\u001B[0m         filterwarnings('ignore',\n\u001B[0;32m    119\u001B[0m                        message='The provided table name \\'%s\\' is not found exactly as such in the database' % tablename)\n\u001B[1;32m--> 120\u001B[1;33m         to_sql(df, name=tablename, con=conn,\n\u001B[0m\u001B[0;32m    121\u001B[0m                index=not any(name is None for name in df.index.names))  # load index into db if all levels are named\n\u001B[0;32m    122\u001B[0m \u001B[1;33m\u001B[0m\u001B[0m\n",
      "\u001B[1;32mc:\\users\\a_sta\\onedrive - worcester polytechnic institute (wpi.edu)\\2020-21\\d\\ds 3010\\final project\\ds3010project\\new_venv\\lib\\site-packages\\pandas\\io\\sql.py\u001B[0m in \u001B[0;36mto_sql\u001B[1;34m(frame, name, con, schema, if_exists, index, index_label, chunksize, dtype, method)\u001B[0m\n\u001B[0;32m    599\u001B[0m         )\n\u001B[0;32m    600\u001B[0m \u001B[1;33m\u001B[0m\u001B[0m\n\u001B[1;32m--> 601\u001B[1;33m     pandas_sql.to_sql(\n\u001B[0m\u001B[0;32m    602\u001B[0m         \u001B[0mframe\u001B[0m\u001B[1;33m,\u001B[0m\u001B[1;33m\u001B[0m\u001B[1;33m\u001B[0m\u001B[0m\n\u001B[0;32m    603\u001B[0m         \u001B[0mname\u001B[0m\u001B[1;33m,\u001B[0m\u001B[1;33m\u001B[0m\u001B[1;33m\u001B[0m\u001B[0m\n",
      "\u001B[1;32mc:\\users\\a_sta\\onedrive - worcester polytechnic institute (wpi.edu)\\2020-21\\d\\ds 3010\\final project\\ds3010project\\new_venv\\lib\\site-packages\\pandas\\io\\sql.py\u001B[0m in \u001B[0;36mto_sql\u001B[1;34m(self, frame, name, if_exists, index, index_label, schema, chunksize, dtype, method)\u001B[0m\n\u001B[0;32m   1409\u001B[0m \u001B[1;33m\u001B[0m\u001B[0m\n\u001B[0;32m   1410\u001B[0m         \u001B[1;32mtry\u001B[0m\u001B[1;33m:\u001B[0m\u001B[1;33m\u001B[0m\u001B[1;33m\u001B[0m\u001B[0m\n\u001B[1;32m-> 1411\u001B[1;33m             \u001B[0mtable\u001B[0m\u001B[1;33m.\u001B[0m\u001B[0minsert\u001B[0m\u001B[1;33m(\u001B[0m\u001B[0mchunksize\u001B[0m\u001B[1;33m,\u001B[0m \u001B[0mmethod\u001B[0m\u001B[1;33m=\u001B[0m\u001B[0mmethod\u001B[0m\u001B[1;33m)\u001B[0m\u001B[1;33m\u001B[0m\u001B[1;33m\u001B[0m\u001B[0m\n\u001B[0m\u001B[0;32m   1412\u001B[0m         \u001B[1;32mexcept\u001B[0m \u001B[0mexc\u001B[0m\u001B[1;33m.\u001B[0m\u001B[0mSQLAlchemyError\u001B[0m \u001B[1;32mas\u001B[0m \u001B[0merr\u001B[0m\u001B[1;33m:\u001B[0m\u001B[1;33m\u001B[0m\u001B[1;33m\u001B[0m\u001B[0m\n\u001B[0;32m   1413\u001B[0m             \u001B[1;31m# GH34431\u001B[0m\u001B[1;33m\u001B[0m\u001B[1;33m\u001B[0m\u001B[1;33m\u001B[0m\u001B[0m\n",
      "\u001B[1;32mc:\\users\\a_sta\\onedrive - worcester polytechnic institute (wpi.edu)\\2020-21\\d\\ds 3010\\final project\\ds3010project\\new_venv\\lib\\site-packages\\pandas\\io\\sql.py\u001B[0m in \u001B[0;36minsert\u001B[1;34m(self, chunksize, method)\u001B[0m\n\u001B[0;32m    843\u001B[0m \u001B[1;33m\u001B[0m\u001B[0m\n\u001B[0;32m    844\u001B[0m                 \u001B[0mchunk_iter\u001B[0m \u001B[1;33m=\u001B[0m \u001B[0mzip\u001B[0m\u001B[1;33m(\u001B[0m\u001B[1;33m*\u001B[0m\u001B[1;33m[\u001B[0m\u001B[0marr\u001B[0m\u001B[1;33m[\u001B[0m\u001B[0mstart_i\u001B[0m\u001B[1;33m:\u001B[0m\u001B[0mend_i\u001B[0m\u001B[1;33m]\u001B[0m \u001B[1;32mfor\u001B[0m \u001B[0marr\u001B[0m \u001B[1;32min\u001B[0m \u001B[0mdata_list\u001B[0m\u001B[1;33m]\u001B[0m\u001B[1;33m)\u001B[0m\u001B[1;33m\u001B[0m\u001B[1;33m\u001B[0m\u001B[0m\n\u001B[1;32m--> 845\u001B[1;33m                 \u001B[0mexec_insert\u001B[0m\u001B[1;33m(\u001B[0m\u001B[0mconn\u001B[0m\u001B[1;33m,\u001B[0m \u001B[0mkeys\u001B[0m\u001B[1;33m,\u001B[0m \u001B[0mchunk_iter\u001B[0m\u001B[1;33m)\u001B[0m\u001B[1;33m\u001B[0m\u001B[1;33m\u001B[0m\u001B[0m\n\u001B[0m\u001B[0;32m    846\u001B[0m \u001B[1;33m\u001B[0m\u001B[0m\n\u001B[0;32m    847\u001B[0m     def _query_iterator(\n",
      "\u001B[1;32mc:\\users\\a_sta\\onedrive - worcester polytechnic institute (wpi.edu)\\2020-21\\d\\ds 3010\\final project\\ds3010project\\new_venv\\lib\\site-packages\\pandas\\io\\sql.py\u001B[0m in \u001B[0;36m_execute_insert\u001B[1;34m(self, conn, keys, data_iter)\u001B[0m\n\u001B[0;32m    759\u001B[0m            \u001B[0mEach\u001B[0m \u001B[0mitem\u001B[0m \u001B[0mcontains\u001B[0m \u001B[0ma\u001B[0m \u001B[0mlist\u001B[0m \u001B[0mof\u001B[0m \u001B[0mvalues\u001B[0m \u001B[0mto\u001B[0m \u001B[0mbe\u001B[0m \u001B[0minserted\u001B[0m\u001B[1;33m\u001B[0m\u001B[1;33m\u001B[0m\u001B[0m\n\u001B[0;32m    760\u001B[0m         \"\"\"\n\u001B[1;32m--> 761\u001B[1;33m         \u001B[0mdata\u001B[0m \u001B[1;33m=\u001B[0m \u001B[1;33m[\u001B[0m\u001B[0mdict\u001B[0m\u001B[1;33m(\u001B[0m\u001B[0mzip\u001B[0m\u001B[1;33m(\u001B[0m\u001B[0mkeys\u001B[0m\u001B[1;33m,\u001B[0m \u001B[0mrow\u001B[0m\u001B[1;33m)\u001B[0m\u001B[1;33m)\u001B[0m \u001B[1;32mfor\u001B[0m \u001B[0mrow\u001B[0m \u001B[1;32min\u001B[0m \u001B[0mdata_iter\u001B[0m\u001B[1;33m]\u001B[0m\u001B[1;33m\u001B[0m\u001B[1;33m\u001B[0m\u001B[0m\n\u001B[0m\u001B[0;32m    762\u001B[0m         \u001B[0mconn\u001B[0m\u001B[1;33m.\u001B[0m\u001B[0mexecute\u001B[0m\u001B[1;33m(\u001B[0m\u001B[0mself\u001B[0m\u001B[1;33m.\u001B[0m\u001B[0mtable\u001B[0m\u001B[1;33m.\u001B[0m\u001B[0minsert\u001B[0m\u001B[1;33m(\u001B[0m\u001B[1;33m)\u001B[0m\u001B[1;33m,\u001B[0m \u001B[0mdata\u001B[0m\u001B[1;33m)\u001B[0m\u001B[1;33m\u001B[0m\u001B[1;33m\u001B[0m\u001B[0m\n\u001B[0;32m    763\u001B[0m \u001B[1;33m\u001B[0m\u001B[0m\n",
      "\u001B[1;32mc:\\users\\a_sta\\onedrive - worcester polytechnic institute (wpi.edu)\\2020-21\\d\\ds 3010\\final project\\ds3010project\\new_venv\\lib\\site-packages\\pandas\\io\\sql.py\u001B[0m in \u001B[0;36m<listcomp>\u001B[1;34m(.0)\u001B[0m\n\u001B[0;32m    759\u001B[0m            \u001B[0mEach\u001B[0m \u001B[0mitem\u001B[0m \u001B[0mcontains\u001B[0m \u001B[0ma\u001B[0m \u001B[0mlist\u001B[0m \u001B[0mof\u001B[0m \u001B[0mvalues\u001B[0m \u001B[0mto\u001B[0m \u001B[0mbe\u001B[0m \u001B[0minserted\u001B[0m\u001B[1;33m\u001B[0m\u001B[1;33m\u001B[0m\u001B[0m\n\u001B[0;32m    760\u001B[0m         \"\"\"\n\u001B[1;32m--> 761\u001B[1;33m         \u001B[0mdata\u001B[0m \u001B[1;33m=\u001B[0m \u001B[1;33m[\u001B[0m\u001B[0mdict\u001B[0m\u001B[1;33m(\u001B[0m\u001B[0mzip\u001B[0m\u001B[1;33m(\u001B[0m\u001B[0mkeys\u001B[0m\u001B[1;33m,\u001B[0m \u001B[0mrow\u001B[0m\u001B[1;33m)\u001B[0m\u001B[1;33m)\u001B[0m \u001B[1;32mfor\u001B[0m \u001B[0mrow\u001B[0m \u001B[1;32min\u001B[0m \u001B[0mdata_iter\u001B[0m\u001B[1;33m]\u001B[0m\u001B[1;33m\u001B[0m\u001B[1;33m\u001B[0m\u001B[0m\n\u001B[0m\u001B[0;32m    762\u001B[0m         \u001B[0mconn\u001B[0m\u001B[1;33m.\u001B[0m\u001B[0mexecute\u001B[0m\u001B[1;33m(\u001B[0m\u001B[0mself\u001B[0m\u001B[1;33m.\u001B[0m\u001B[0mtable\u001B[0m\u001B[1;33m.\u001B[0m\u001B[0minsert\u001B[0m\u001B[1;33m(\u001B[0m\u001B[1;33m)\u001B[0m\u001B[1;33m,\u001B[0m \u001B[0mdata\u001B[0m\u001B[1;33m)\u001B[0m\u001B[1;33m\u001B[0m\u001B[1;33m\u001B[0m\u001B[0m\n\u001B[0;32m    763\u001B[0m \u001B[1;33m\u001B[0m\u001B[0m\n",
      "\u001B[1;31mMemoryError\u001B[0m: "
     ]
    }
   ],
   "source": [
    "rides['time_stamp_secs'] = rides['time_stamp'].div(1000).round(-1) #turning into seconds from miliseconds\n",
    "rides['time_stamp_secs'] = rides['time_stamp_secs'].astype(int)\n",
    "weather['time_stamp_round'] = weather['time_stamp'].round(-1)\n",
    "#print(sorted(rides.time_stamp_secs.unique()))\n",
    "#print(sorted(weather.time_stamp_round.unique()))\n",
    "\n",
    "#failed attempts with pandas merge\n",
    "#combined_data =  rides.merge( weather,how='inner', left_on=[\"time_stamp_secs\", \"source\"], right_on=[\"time_stamp_round\", \"location\"])\n",
    "#combined_data2 =  rides.merge( weather,how='inner', left_on=\"time_stamp_secs\", right_on=\"time_stamp_round\")\n",
    "\n",
    "#I'm making a range because weather data and rides data were created in different intervals (we want the weather timestamp closest to the ride timestamp)\n",
    "sql_query = \"SELECT * FROM rides INNER JOIN weather ON rides.source = weather.location WHERE time_stamp_round  <= (rides.time_stamp_secs +1800) AND time_stamp_round >= ( rides.time_stamp_secs-1800)\"\n",
    "new_combined = ps.sqldf(sql_query, locals())\n",
    "new_combined.to_csv('data/combined.csv')\n",
    "#This data might some duplicates because they way we are merging -> we need to remove them"
   ]
  },
  {
   "cell_type": "code",
   "execution_count": null,
   "metadata": {
    "pycharm": {
     "name": "#%%\n"
    }
   },
   "outputs": [],
   "source": [
    "combined_data = pd.read_csv('data/combined.csv')\n",
    "print(combined_data.shape) #more rows than in rides, we have some duplicates"
   ]
  },
  {
   "cell_type": "code",
   "execution_count": null,
   "metadata": {
    "pycharm": {
     "name": "#%%\n"
    }
   },
   "outputs": [],
   "source": [
    "cleaned_data = combined_data.drop_duplicates(subset=['id'])\n",
    "print(cleaned_data.shape)\n",
    "cleaned_data.drop(cleaned_data[cleaned_data['price'].isnull()].index, inplace = True)\n",
    "print(cleaned_data.shape)\n",
    "cleaned_data.to_csv('data/cleaned.csv')"
   ]
  },
  {
   "cell_type": "code",
   "execution_count": 3,
   "metadata": {
    "pycharm": {
     "name": "#%%\n"
    }
   },
   "outputs": [
    {
     "name": "stderr",
     "output_type": "stream",
     "text": [
      "c:\\users\\a_sta\\onedrive - worcester polytechnic institute (wpi.edu)\\2020-21\\d\\ds 3010\\final project\\ds3010project\\new_venv\\lib\\site-packages\\seaborn\\distributions.py:2557: FutureWarning: `distplot` is a deprecated function and will be removed in a future version. Please adapt your code to use either `displot` (a figure-level function with similar flexibility) or `histplot` (an axes-level function for histograms).\n",
      "  warnings.warn(msg, FutureWarning)\n"
     ]
    },
    {
     "data": {
      "image/png": "[encoded data removed]",
      "text/plain": [
       "<Figure size 432x288 with 1 Axes>"
      ]
     },
     "metadata": {
      "needs_background": "light"
     },
     "output_type": "display_data"
    },
    {
     "data": {
      "image/png": "[encoded data removed]",
      "text/plain": [
       "<Figure size 432x288 with 1 Axes>"
      ]
     },
     "metadata": {
      "needs_background": "light"
     },
     "output_type": "display_data"
    }
   ],
   "source": [
    "import matplotlib.pyplot as plt\n",
    "import seaborn as sns\n",
    "\n",
    "cleaned_data = pd.read_csv(\"data/cleaned.csv\")\n",
    "combined_data = pd.read_csv('data/combined.csv')\n",
    "\n",
    "plt.hist(cleaned_data['price'], color = 'blue', edgecolor = 'black',\n",
    "         bins = int(180/5))\n",
    "\n",
    "sns.distplot(cleaned_data['price'], hist=True, kde=False,\n",
    "             bins=int(180/5), color = 'blue',\n",
    "             hist_kws={'edgecolor':'black'})\n",
    "\n",
    "plt.title('Distribution of price')\n",
    "plt.xlabel('Price')\n",
    "plt.ylabel('Number of rides')\n",
    "plt.show()\n",
    "\n",
    "\n",
    "plt.hist(combined_data['price'], color = 'blue', edgecolor = 'black',\n",
    "         bins = int(180/5))\n",
    "\n",
    "sns.distplot(combined_data['price'], hist=True, kde=False,\n",
    "             bins=int(180/5), color = 'blue',\n",
    "             hist_kws={'edgecolor':'black'})\n",
    "\n",
    "plt.title('Distribution of price')\n",
    "plt.xlabel('Price')\n",
    "plt.ylabel('Number of rides')\n",
    "plt.show()\n"
   ]
  }
 ],
 "metadata": {
  "kernelspec": {
   "display_name": "Python 3",
   "language": "python",
   "name": "python3"
  },
  "language_info": {
   "codemirror_mode": {
    "name": "ipython",
    "version": 3
   },
   "file_extension": ".py",
   "mimetype": "text/x-python",
   "name": "python",
   "nbconvert_exporter": "python",
   "pygments_lexer": "ipython3",
   "version": "3.8.5"
  }
 },
 "nbformat": 4,
 "nbformat_minor": 1
}