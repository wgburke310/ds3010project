{
 "cells": [
  {
   "cell_type": "markdown",
   "source": [
    "# Data preprocessing and Exploratory Data Analysis (EDA)"
   ],
   "metadata": {
    "collapsed": false,
    "pycharm": {
     "name": "#%% md\n"
    }
   }
  },
  {
   "cell_type": "code",
   "execution_count": 64,
   "outputs": [],
   "source": [
    "#all necessary imports\n",
    "import pandas as pd\n",
    "import pandasql as ps"
   ],
   "metadata": {
    "collapsed": false,
    "pycharm": {
     "name": "#%%\n"
    }
   }
  },
  {
   "cell_type": "markdown",
   "source": [
    "## Fetching rides data"
   ],
   "metadata": {
    "collapsed": false,
    "pycharm": {
     "name": "#%% md\n"
    }
   }
  },
  {
   "cell_type": "code",
   "execution_count": 65,
   "metadata": {
    "collapsed": true,
    "pycharm": {
     "name": "#%%\n"
    }
   },
   "outputs": [],
   "source": [
    "rides = pd.read_csv('data/cab_rides.csv')"
   ]
  },
  {
   "cell_type": "markdown",
   "source": [
    "## Initial exploration of the rides dataset"
   ],
   "metadata": {
    "collapsed": false,
    "pycharm": {
     "name": "#%% md\n"
    }
   }
  },
  {
   "cell_type": "code",
   "execution_count": 66,
   "outputs": [
    {
     "name": "stdout",
     "output_type": "stream",
     "text": [
      "   distance cab_type     time_stamp              destination  \\\n",
      "0      0.44     Lyft  1544952607890            North Station   \n",
      "1      0.44     Lyft  1543284023677            North Station   \n",
      "2      0.44     Lyft  1543366822198            North Station   \n",
      "3      0.44     Lyft  1543553582749            North Station   \n",
      "4      0.44     Lyft  1543463360223            North Station   \n",
      "5      0.44     Lyft  1545071112138            North Station   \n",
      "6      1.08     Lyft  1543208580200  Northeastern University   \n",
      "7      1.08     Lyft  1543780384677  Northeastern University   \n",
      "8      1.08     Lyft  1543818482645  Northeastern University   \n",
      "9      1.08     Lyft  1543315522249  Northeastern University   \n",
      "\n",
      "             source  price  surge_multiplier  \\\n",
      "0  Haymarket Square    5.0               1.0   \n",
      "1  Haymarket Square   11.0               1.0   \n",
      "2  Haymarket Square    7.0               1.0   \n",
      "3  Haymarket Square   26.0               1.0   \n",
      "4  Haymarket Square    9.0               1.0   \n",
      "5  Haymarket Square   16.5               1.0   \n",
      "6          Back Bay   10.5               1.0   \n",
      "7          Back Bay   16.5               1.0   \n",
      "8          Back Bay    3.0               1.0   \n",
      "9          Back Bay   27.5               1.0   \n",
      "\n",
      "                                     id    product_id          name  \n",
      "0  424553bb-7174-41ea-aeb4-fe06d4f4b9d7     lyft_line        Shared  \n",
      "1  4bd23055-6827-41c6-b23b-3c491f24e74d  lyft_premier           Lux  \n",
      "2  981a3613-77af-4620-a42a-0c0866077d1e          lyft          Lyft  \n",
      "3  c2d88af2-d278-4bfd-a8d0-29ca77cc5512   lyft_luxsuv  Lux Black XL  \n",
      "4  e0126e1f-8ca9-4f2e-82b3-50505a09db9a     lyft_plus       Lyft XL  \n",
      "5  f6f6d7e4-3e18-4922-a5f5-181cdd3fa6f2      lyft_lux     Lux Black  \n",
      "6  462816a3-820d-408b-8549-0b39e82f65ac     lyft_plus       Lyft XL  \n",
      "7  474d6376-bc59-4ec9-bf57-4e6d6faeb165      lyft_lux     Lux Black  \n",
      "8  4f9fee41-fde3-4767-bbf1-a00e108701fb     lyft_line        Shared  \n",
      "9  8612d909-98b8-4454-a093-30bd48de0cb3   lyft_luxsuv  Lux Black XL  \n"
     ]
    }
   ],
   "source": [
    "print(rides.head(10))"
   ],
   "metadata": {
    "collapsed": false,
    "pycharm": {
     "name": "#%%\n"
    }
   }
  },
  {
   "cell_type": "code",
   "execution_count": 67,
   "outputs": [
    {
     "name": "stdout",
     "output_type": "stream",
     "text": [
      "(693071, 10)\n"
     ]
    }
   ],
   "source": [
    "print(rides.shape)"
   ],
   "metadata": {
    "collapsed": false,
    "pycharm": {
     "name": "#%%\n"
    }
   }
  },
  {
   "cell_type": "code",
   "execution_count": 68,
   "outputs": [
    {
     "name": "stdout",
     "output_type": "stream",
     "text": [
      "<class 'pandas.core.frame.DataFrame'>\n",
      "RangeIndex: 693071 entries, 0 to 693070\n",
      "Data columns (total 10 columns):\n",
      " #   Column            Non-Null Count   Dtype  \n",
      "---  ------            --------------   -----  \n",
      " 0   distance          693071 non-null  float64\n",
      " 1   cab_type          693071 non-null  object \n",
      " 2   time_stamp        693071 non-null  int64  \n",
      " 3   destination       693071 non-null  object \n",
      " 4   source            693071 non-null  object \n",
      " 5   price             637976 non-null  float64\n",
      " 6   surge_multiplier  693071 non-null  float64\n",
      " 7   id                693071 non-null  object \n",
      " 8   product_id        693071 non-null  object \n",
      " 9   name              693071 non-null  object \n",
      "dtypes: float64(3), int64(1), object(6)\n",
      "memory usage: 52.9+ MB\n",
      "None\n"
     ]
    }
   ],
   "source": [
    "print(rides.info())"
   ],
   "metadata": {
    "collapsed": false,
    "pycharm": {
     "name": "#%%\n"
    }
   }
  },
  {
   "cell_type": "code",
   "execution_count": 69,
   "outputs": [
    {
     "name": "stdout",
     "output_type": "stream",
     "text": [
      "            distance    time_stamp          price  surge_multiplier\n",
      "count  693071.000000  6.930710e+05  637976.000000     693071.000000\n",
      "mean        2.189430  1.544046e+12      16.545125          1.013870\n",
      "std         1.138937  6.891925e+08       9.324359          0.091641\n",
      "min         0.020000  1.543204e+12       2.500000          1.000000\n",
      "25%         1.280000  1.543444e+12       9.000000          1.000000\n",
      "50%         2.160000  1.543737e+12      13.500000          1.000000\n",
      "75%         2.920000  1.544828e+12      22.500000          1.000000\n",
      "max         7.860000  1.545161e+12      97.500000          3.000000\n"
     ]
    }
   ],
   "source": [
    "print(rides.describe())\n"
   ],
   "metadata": {
    "collapsed": false,
    "pycharm": {
     "name": "#%%\n"
    }
   }
  },
  {
   "cell_type": "markdown",
   "source": [
    "## Fetching weather data"
   ],
   "metadata": {
    "collapsed": false
   }
  },
  {
   "cell_type": "code",
   "execution_count": 70,
   "outputs": [],
   "source": [
    "weather = pd.read_csv('data/weather.csv')"
   ],
   "metadata": {
    "collapsed": false,
    "pycharm": {
     "name": "#%%\n"
    }
   }
  },
  {
   "cell_type": "markdown",
   "source": [
    "## Initial exploration of the rides dataset"
   ],
   "metadata": {
    "collapsed": false
   }
  },
  {
   "cell_type": "code",
   "execution_count": 71,
   "outputs": [
    {
     "name": "stdout",
     "output_type": "stream",
     "text": [
      "    temp                 location  clouds  pressure    rain  time_stamp  \\\n",
      "0  42.42                 Back Bay     1.0   1012.14  0.1228  1545003901   \n",
      "1  42.43              Beacon Hill     1.0   1012.15  0.1846  1545003901   \n",
      "2  42.50        Boston University     1.0   1012.15  0.1089  1545003901   \n",
      "3  42.11                   Fenway     1.0   1012.13  0.0969  1545003901   \n",
      "4  43.13       Financial District     1.0   1012.14  0.1786  1545003901   \n",
      "5  42.34         Haymarket Square     1.0   1012.15  0.2068  1545003901   \n",
      "6  42.36                North End     1.0   1012.15  0.2088  1545003901   \n",
      "7  42.21            North Station     1.0   1012.16  0.2069  1545003901   \n",
      "8  42.07  Northeastern University     1.0   1012.12  0.1020  1545003901   \n",
      "9  43.05            South Station     1.0   1012.12  0.1547  1545003901   \n",
      "\n",
      "   humidity   wind  \n",
      "0      0.77  11.25  \n",
      "1      0.76  11.32  \n",
      "2      0.76  11.07  \n",
      "3      0.77  11.09  \n",
      "4      0.75  11.49  \n",
      "5      0.77  11.49  \n",
      "6      0.77  11.46  \n",
      "7      0.77  11.37  \n",
      "8      0.78  11.28  \n",
      "9      0.75  11.58  \n"
     ]
    }
   ],
   "source": [
    "print(weather.head(10))"
   ],
   "metadata": {
    "collapsed": false,
    "pycharm": {
     "name": "#%%\n"
    }
   }
  },
  {
   "cell_type": "code",
   "execution_count": 72,
   "outputs": [
    {
     "name": "stdout",
     "output_type": "stream",
     "text": [
      "(6276, 8)\n"
     ]
    }
   ],
   "source": [
    "print(weather.shape)"
   ],
   "metadata": {
    "collapsed": false,
    "pycharm": {
     "name": "#%%\n"
    }
   }
  },
  {
   "cell_type": "code",
   "execution_count": 73,
   "outputs": [
    {
     "name": "stdout",
     "output_type": "stream",
     "text": [
      "<class 'pandas.core.frame.DataFrame'>\n",
      "RangeIndex: 6276 entries, 0 to 6275\n",
      "Data columns (total 8 columns):\n",
      " #   Column      Non-Null Count  Dtype  \n",
      "---  ------      --------------  -----  \n",
      " 0   temp        6276 non-null   float64\n",
      " 1   location    6276 non-null   object \n",
      " 2   clouds      6276 non-null   float64\n",
      " 3   pressure    6276 non-null   float64\n",
      " 4   rain        894 non-null    float64\n",
      " 5   time_stamp  6276 non-null   int64  \n",
      " 6   humidity    6276 non-null   float64\n",
      " 7   wind        6276 non-null   float64\n",
      "dtypes: float64(6), int64(1), object(1)\n",
      "memory usage: 392.4+ KB\n",
      "None\n"
     ]
    }
   ],
   "source": [
    "print(weather.info())"
   ],
   "metadata": {
    "collapsed": false,
    "pycharm": {
     "name": "#%%\n"
    }
   }
  },
  {
   "cell_type": "code",
   "execution_count": 74,
   "outputs": [
    {
     "name": "stdout",
     "output_type": "stream",
     "text": [
      "              temp       clouds     pressure        rain    time_stamp  \\\n",
      "count  6276.000000  6276.000000  6276.000000  894.000000  6.276000e+03   \n",
      "mean     39.090475     0.677777  1008.445209    0.057652  1.543857e+09   \n",
      "std       6.022055     0.314284    12.870775    0.100758  6.659340e+05   \n",
      "min      19.620000     0.000000   988.250000    0.000200  1.543204e+09   \n",
      "25%      36.077500     0.440000   997.747500    0.004900  1.543387e+09   \n",
      "50%      40.130000     0.780000  1007.660000    0.014850  1.543514e+09   \n",
      "75%      42.832500     0.970000  1018.480000    0.060925  1.544691e+09   \n",
      "max      55.410000     1.000000  1035.120000    0.780700  1.545159e+09   \n",
      "\n",
      "          humidity         wind  \n",
      "count  6276.000000  6276.000000  \n",
      "mean      0.763985     6.802812  \n",
      "std       0.127340     3.633466  \n",
      "min       0.450000     0.290000  \n",
      "25%       0.670000     3.517500  \n",
      "50%       0.760000     6.570000  \n",
      "75%       0.890000     9.920000  \n",
      "max       0.990000    18.180000  \n"
     ]
    }
   ],
   "source": [
    "print(weather.describe())"
   ],
   "metadata": {
    "collapsed": false,
    "pycharm": {
     "name": "#%%\n"
    }
   }
  },
  {
   "cell_type": "markdown",
   "source": [
    "## Merging ride and weather data"
   ],
   "metadata": {
    "collapsed": false,
    "pycharm": {
     "name": "#%% md\n"
    }
   }
  },
  {
   "cell_type": "code",
   "execution_count": 75,
   "outputs": [],
   "source": [
    "rides['time_stamp_secs'] = rides['time_stamp'].div(1000).round(-1) #turning into seconds from miliseconds\n",
    "rides['time_stamp_secs'] = rides['time_stamp_secs'].astype(int)\n",
    "weather['time_stamp_round'] = weather['time_stamp'].round(-1)\n",
    "#print(sorted(rides.time_stamp_secs.unique()))\n",
    "#print(sorted(weather.time_stamp_round.unique()))\n",
    "\n",
    "#failed attempts with pandas merge\n",
    "#combined_data =  rides.merge( weather,how='inner', left_on=[\"time_stamp_secs\", \"source\"], right_on=[\"time_stamp_round\", \"location\"])\n",
    "#combined_data2 =  rides.merge( weather,how='inner', left_on=\"time_stamp_secs\", right_on=\"time_stamp_round\")\n",
    "\n",
    "#I'm making a range because weather data and rides data were created in different intervals (we want the weather timestamp closest to the ride timestamp)\n",
    "sql_query = \"SELECT * FROM rides INNER JOIN weather ON rides.source = weather.location WHERE time_stamp_round  <= (rides.time_stamp_secs +1800) AND time_stamp_round >= ( rides.time_stamp_secs-1800)\"\n",
    "new_combined = ps.sqldf(sql_query, locals())\n",
    "new_combined.to_csv('data/combined.csv')\n",
    "#This data might some duplicates because they way we are merging -> we need to remove them"
   ],
   "metadata": {
    "collapsed": false,
    "pycharm": {
     "name": "#%%\n"
    }
   }
  }
 ],
 "metadata": {
  "kernelspec": {
   "display_name": "Python 3",
   "language": "python",
   "name": "python3"
  },
  "language_info": {
   "codemirror_mode": {
    "name": "ipython",
    "version": 2
   },
   "file_extension": ".py",
   "mimetype": "text/x-python",
   "name": "python",
   "nbconvert_exporter": "python",
   "pygments_lexer": "ipython2",
   "version": "2.7.6"
  }
 },
 "nbformat": 4,
 "nbformat_minor": 0
}